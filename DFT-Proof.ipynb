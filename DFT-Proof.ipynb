{
 "cells": [
  {
   "cell_type": "code",
   "execution_count": 1,
   "source": [
    "def format_latex(latex_equation):\r\n",
    "    return \"\"\"\\\\begin{align}\"\"\"+latex_equation+'\\\\end{align}'\r\n",
    "\r\n",
    "def get_latext_string(latex_file_path):\r\n",
    "    \r\n",
    "    latex_code = \"\"\r\n",
    "    \r\n",
    "    with open(latex_file_path, 'r') as latex_content:\r\n",
    "        \r\n",
    "        for i, line in enumerate(latex_content.readlines()):\r\n",
    "            latex_code += format_latex(line)\r\n",
    "            \r\n",
    "        return latex_code"
   ],
   "outputs": [],
   "metadata": {}
  },
  {
   "cell_type": "code",
   "execution_count": 2,
   "source": [
    "from IPython.display import Latex\r\n",
    "\r\n",
    "code = get_latext_string(\"Fourier.txt\")\r\n",
    "\r\n",
    "Latex(f\"\"\"{code}\"\"\")"
   ],
   "outputs": [
    {
     "output_type": "execute_result",
     "data": {
      "text/latex": [
       "\\begin{align}x(n) = [x_{0}, x_{1}, ..., x_{N-1}] \\textit{ which means x(n) is sampled using N points}\n",
       "\\end{align}\\begin{align}\n",
       "\\end{align}\\begin{align}\\textit{ith sample corresponds to (i/N)th second in time domine}\n",
       "\\end{align}\\begin{align}\n",
       "\\end{align}\\begin{align}\\textit{Any periodic wave can be expressed as sum of various sine waves}\n",
       "\\end{align}\\begin{align}\n",
       "\\end{align}\\begin{align}x(n) = a_{0} + \\sum_{i=0}^{M-1}A_{i}*sin(2*\\pi * f_{i}*n/N + \\phi_{i}) \\newline\n",
       "\\end{align}\\begin{align}\n",
       "\\end{align}\\begin{align}\\textit{Discriet Fourier Transform is defined as}\n",
       "\\end{align}\\begin{align}\n",
       "\\end{align}\\begin{align}X(k) = \\sum_{n=0}^{N-1} x(n)*exp(-2j*\\pi*k*n/N) \\newline\n",
       "\\end{align}\\begin{align}\n",
       "\\end{align}\\begin{align}\\textit{Lets Try to simplify it}\n",
       "\\end{align}\\begin{align}\n",
       "\\end{align}\\begin{align}X(k) = \\sum_{n=0}^{N-1}a_{0}*e^{-2j*\\pi*k*n/N} + \\sum_{n=0}^{N-1}\\sum_{i=0}^{M-1}A_{i}*sin(2*\\pi * f_{i}*n/N + \\phi_{i})*e^{-2j*\\pi*k*n/N} \\newline\n",
       "\\end{align}\\begin{align}\n",
       "\\end{align}\\begin{align}\\sum_{n=0}^{N-1}a_{0}*e^{-2j*\\pi*k*n/N} = 0 \\newline\n",
       "\\end{align}\\begin{align}\n",
       "\\end{align}\\begin{align}X(k) =  \\sum_{n=0}^{N-1}\\sum_{i=0}^{M-1}A_{i} *\\frac{[e^{2j*\\pi * f_{i}*n/N  + \\phi_{i}} - e^{-2j*\\pi * f_{i}*n/N  - \\phi_{i}}]}{2j}*e^{-2j*\\pi*k*n/N} \\newline\n",
       "\\end{align}\\begin{align}\n",
       "\\end{align}\\begin{align}\n",
       "\\end{align}\\begin{align}X(k) = \\sum_{n=0}^{N-1}\\sum_{i=0}^{M-1}A_{i}*\\frac{[e^{2j*\\pi * (f_{i} - k) *n/N  + \\phi_{i}} - e^{-2j*\\pi * (f_{i} + k)*n/N  - \\phi_{i}}]}{2j} \\newline\n",
       "\\end{align}\\begin{align}\n",
       "\\end{align}\\begin{align}\\sum_{i=0}^{M-1}\\sum_{j=0}^{N-1} f(i, j) = \\sum_{j=0}^{N-1}\\sum_{i=0}^{M-1} f(i, j) \\textit{ Well Proven statement}\n",
       "\\end{align}\\begin{align}\n",
       "\\end{align}\\begin{align}X(k) = \\sum_{i=0}^{M-1}\\sum_{n=0}^{N-1}A_{i}*\\frac{[e^{2j*\\pi * (f_{i} - k) *n/N  + \\phi_{i}} - e^{-2j*\\pi * (f_{i} + k)*n/N  - \\phi_{i}}]}{2j} \\newline\n",
       "\\end{align}\\begin{align}\n",
       "\\end{align}\\begin{align}X(k) = \\sum_{i=0}^{M-1}\\sum_{n=0}^{N-1}A_{i}*\\frac{[e^{j\\phi_{i}}*e^{2j*\\pi*(f_{i}-k)*n/N} - e^{-j\\phi_{i}}*e^{-2j*\\pi*(f_{i}+k)*n/N}]}{2j} \\newline\n",
       "\\end{align}\\begin{align}\n",
       "\\end{align}\\begin{align}X(k) = \\sum_{i=0}^{M-1}\\frac{A_{i}*e^{j\\phi_{i}}}{2j}\\sum_{n=0}^{N-1}e^{2j*\\pi*(f_{i}-k)*n/N} - \\sum_{i=0}^{M-1}\\frac{A_{i}*e^{-j\\phi_{i}}}{2j}\\sum_{n=0}^{N-1}e^{-2j*\\pi*(f_{i}+k)*n/N}\n",
       "\\end{align}\\begin{align}\n",
       "\\end{align}\\begin{align}\\sum_{n=0}^{N-1}e^{2j*\\pi*(f_{i}-k)*n/N}  [ \\textit{ This is in Geometric Progression} ]\n",
       "\\end{align}\\begin{align}\n",
       "\\end{align}\\begin{align}X(k) = \\sum_{i=0}^{M-1}\\frac{A_{i}*e^{j\\phi_{i}}}{2j}*\\frac{e^{2j*\\pi*(f_{i}-k)} - 1}{e^{2j\\pi*(f_{i}-k)/N} - 1} -  \\sum_{i=0}^{M-1}\\frac{A_{i}*e^{-j\\phi_{i}}}{2j}*\\frac{e^{-2j*\\pi*(f_{i}+k)} - 1}{e^{-2j*\\pi*(f_{i}+k)/N} - 1}\n",
       "\\end{align}\\begin{align}\n",
       "\\end{align}\\begin{align}e^{2j*pi*z} = 1 \\space \\forall z \\epsilon \\mathbb{Z}\n",
       "\\end{align}\\begin{align}\n",
       "\\end{align}\\begin{align}\\frac{e^{2j*\\pi*(f_{i}-k)} - 1}{e^{2j\\pi*(f_{i}-k)/N} - 1} == 0 \\hspace{1cm} \\forall \\space k != f_{i} \\hspace{1cm} \\frac{e^{-2j*\\pi*(f_{i}+k)} - 1}{e^{-2j*\\pi*(f_{i}+k)/N} - 1} == 0 \\hspace{1cm} \\forall \\space k + f_{i} != N\n",
       "\\end{align}\\begin{align}\n",
       "\\end{align}\\begin{align}\\frac{e^{2j*\\pi*(f_{i}-k)} - 1}{e^{2j\\pi*(f_{i}-k)/N} - 1} == N \\hspace{1cm} \\forall \\space k == f_{i} \\hspace{1cm} \\frac{e^{-2j*\\pi*(f_{i}+k)} - 1}{e^{-2j*\\pi*(f_{i}+k)/N} - 1} == N \\hspace{1cm} \\forall \\space k + f_{i} == N\n",
       "\\end{align}\\begin{align}\n",
       "\\end{align}\\begin{align}X(f_{i}) = \\frac{NA_{i}*e^{j\\phi_{i}}}{2j} \n",
       "\\end{align}\\begin{align}\n",
       "\\end{align}\\begin{align}X(N-f_{i}) = \\frac{-NA_{i}*e^{-j\\phi_{i}}}{2j}\n",
       "\\end{align}\\begin{align}\n",
       "\\end{align}\\begin{align}\\textit{so this concludes that the spikes in DFT corresponds to frequecy and length of the spike corresponds to amplitude of a sine wave that might be used to reconstruct the signal}\n",
       "\\end{align}\\begin{align}\n",
       "\\end{align}\\begin{align}\n",
       "\\end{align}\\begin{align}\n",
       "\\end{align}"
      ],
      "text/plain": [
       "<IPython.core.display.Latex object>"
      ]
     },
     "metadata": {},
     "execution_count": 2
    }
   ],
   "metadata": {
    "scrolled": false
   }
  },
  {
   "cell_type": "code",
   "execution_count": 3,
   "source": [
    "from IPython.display import Latex\r\n",
    "\r\n",
    "code = get_latext_string(\"InversFourier.txt\")\r\n",
    "\r\n",
    "Latex(f\"\"\"{code}\"\"\")"
   ],
   "outputs": [
    {
     "output_type": "execute_result",
     "data": {
      "text/latex": [
       "\\begin{align}\\textit{if f0, f1, f2, ..., fm are the frequencies of Sine wave which are used to reconstruct the signal} \\newline\n",
       "\\end{align}\\begin{align}\n",
       "\\end{align}\\begin{align}x(n) = \\sum_{i=0}^{i=M-1}A_{i}*sin(2*\\pi*f_{i}*n/N * \\phi_{i})\n",
       "\\end{align}\\begin{align}\n",
       "\\end{align}\\begin{align}\\textit{Using DFT we have proved that }\n",
       "\\end{align}\\begin{align}\n",
       "\\end{align}\\begin{align}X(f_{i}) = \\frac{NA_{i}*e^{j\\phi_{i}}}{2j} \\textit{ & } X(N-f_{i}) = \\frac{NA_{i}*e^{-j\\phi{i}}}{2j}\n",
       "\\end{align}\\begin{align}\n",
       "\\end{align}\\begin{align}\\textit{We want to reconstruct x(n) to do so multiply } X(f_{i}) \\textit{ by }  e^{2j\\pi*fi*n/N}\n",
       "\\end{align}\\begin{align}\n",
       "\\end{align}\\begin{align}X(f_{i})*e^{2j\\pi*fi*n/N} = \\frac{NA_{i}*e^{2j\\pi*fi*n/N + j\\phi_{i}}}{2j}\n",
       "\\end{align}\\begin{align}\n",
       "\\end{align}\\begin{align}X(N - f_{i})*e^{2j\\pi*(N - f_{i})*n/N} = \\frac{NA_{i}*e^{2j\\pi*(N - fi)*n/N - j\\phi_{i}}}{2j}\n",
       "\\end{align}\\begin{align}\n",
       "\\end{align}\\begin{align}=> \\frac{NA_{i}*e^{-j\\phi_{i}}*[e^{2j\\pi*N*n/N} * e^{-2j\\pi*fi*n/N}]}{2j}\n",
       "\\end{align}\\begin{align}\n",
       "\\end{align}\\begin{align}=> \\frac{NA_{i}*e^{-j\\phi_{i}}*[e^{2j\\pi*n} * e^{-2j\\pi*fi*n/N}]}{2j}\n",
       "\\end{align}\\begin{align}\n",
       "\\end{align}\\begin{align}e^{2j*\\pi*n} == 1 \\forall n \\epsilon \\mathbb{Z}\n",
       "\\end{align}\\begin{align}\n",
       "\\end{align}\\begin{align}=> \\frac{NA_{i}*e^{-j\\phi_{i}}*[e^{-2j\\pi*fi*n/N}]}{2j}\n",
       "\\end{align}\\begin{align}\n",
       "\\end{align}\\begin{align}\\textit{lets Add } X(f_{i})*e^{2j\\pi*fi*n/N} \\textit{ and } X(N - f_{i})*e^{2j\\pi*(N - f_{i})*n/N} \n",
       "\\end{align}\\begin{align}\n",
       "\\end{align}\\begin{align}=> X(f_{i})*e^{2j\\pi*fi*n/N} + X(N - f_{i})*e^{2j\\pi*(N - f_{i})*n/N} = NA_{i} * \\frac{e^{2j*\\pi*n*f_{i}/N + j\\phi_{i} } - e^{-2j*\\pi*f_{i}*n/N - j*\\phi_{i}}}{2j}\n",
       "\\end{align}\\begin{align}\n",
       "\\end{align}\\begin{align}\\textit{let x = }2*\\pi*f_{i}*n/N + \\phi_{i}\n",
       "\\end{align}\\begin{align}\n",
       "\\end{align}\\begin{align}=> X(f_{i})*e^{2j\\pi*fi*n/N} + X(N - f_{i})*e^{2j\\pi*(N - f_{i})*n/N} = NA_{i} * \\frac{e^{jx} - e^{-jx}}{2j}\n",
       "\\end{align}\\begin{align}\n",
       "\\end{align}\\begin{align}\\frac{e^{j\\theta} - e^{-j\\theta}}{2j} = sin(\\theta)\n",
       "\\end{align}\\begin{align}\n",
       "\\end{align}\\begin{align}=> X(f_{i})*e^{2j\\pi*fi*n/N} + X(N - f_{i})*e^{2j\\pi*(N - f_{i})*n/N} = NA_{i}*sin(x)\n",
       "\\end{align}\\begin{align}\n",
       "\\end{align}\\begin{align}=> X(f_{i})*e^{2j\\pi*fi*n/N} + X(N - f_{i})*e^{2j\\pi*(N - f_{i})*n/N} = NA_{i}*sin(2*\\pi*n*f_{i}/N + \\phi_{i})\n",
       "\\end{align}\\begin{align}\n",
       "\\end{align}\\begin{align}\\textit{so inverse discret fourier transform can be expressed as }\n",
       "\\end{align}\\begin{align}\n",
       "\\end{align}\\begin{align}x(n) = \\frac{1}{N}*\\sum_{k=0}^{N-1}X(k)*e^{2j*\\pi*k*n/N}\n",
       "\\end{align}\\begin{align}\n",
       "\\end{align}"
      ],
      "text/plain": [
       "<IPython.core.display.Latex object>"
      ]
     },
     "metadata": {},
     "execution_count": 3
    }
   ],
   "metadata": {}
  }
 ],
 "metadata": {
  "kernelspec": {
   "name": "python3",
   "display_name": "Python 3.7.0 64-bit"
  },
  "language_info": {
   "codemirror_mode": {
    "name": "ipython",
    "version": 3
   },
   "file_extension": ".py",
   "mimetype": "text/x-python",
   "name": "python",
   "nbconvert_exporter": "python",
   "pygments_lexer": "ipython3",
   "version": "3.7.0"
  },
  "interpreter": {
   "hash": "804a8553b4c7cac07d2292d56bfaa5d791cabb5f6bdbba78d9014ac29b757095"
  }
 },
 "nbformat": 4,
 "nbformat_minor": 4
}